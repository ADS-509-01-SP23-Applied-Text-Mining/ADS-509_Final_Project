{
 "cells": [
  {
   "attachments": {},
   "cell_type": "markdown",
   "metadata": {},
   "source": [
    "# Topic Modeling to Classification Modeling\n",
    "Since our data is not grouped, we will begin by building a topic model. We will adjust that model as necessary until we feel satisfied with the topics discovered. We will subset our data to the topics we feel most comfortable with and use that resulting data set to build a classification model. \n",
    "\n",
    "Once that is complete we will report the accuracy of our classification model against a hold-out test set. "
   ]
  },
  {
   "cell_type": "code",
   "execution_count": null,
   "metadata": {},
   "outputs": [],
   "source": []
  },
  {
   "cell_type": "markdown",
   "metadata": {},
   "source": []
  }
 ],
 "metadata": {
  "language_info": {
   "name": "python"
  },
  "orig_nbformat": 4
 },
 "nbformat": 4,
 "nbformat_minor": 2
}
