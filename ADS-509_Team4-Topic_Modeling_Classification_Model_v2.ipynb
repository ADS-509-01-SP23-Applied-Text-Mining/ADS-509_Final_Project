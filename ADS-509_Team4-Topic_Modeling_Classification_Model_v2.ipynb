{
 "cells": [
  {
   "cell_type": "markdown",
   "metadata": {},
   "source": [
    "# Appendix C:Topic Modeling to Classification Modeling\n",
    "\n",
    "## ADS 509: Final Project Code\n",
    "## Team 4\n",
    "### Zachariah Freitas and Brianne Bell\n",
    " "
   ]
  },
  {
   "cell_type": "markdown",
   "metadata": {},
   "source": [
    "Since our data is organized into groups, we will build both a multinomial Logistic Regression classifier and a multinomial Naive Bayes classifier first. We will then report the accuracy of our models against our hold-out test set. \n",
    "\n",
    "Once that is complete, we will build NMF, LSA, and LDA topic models, which put our data into topic groups. We will then compare how well those topic models agree with our a priori groups.  \n",
    "\n",
    "-- updated--\n",
    "Since our data is organized into groups with overlap of groups ('terms') where each entry has 1-11 groups, we will first determine our own topic groups through topic modeling. \n",
    "\n",
    "Once our topic modeling is complete, we will use those results to develop classification models. These will be the multinomial Naive Bayes classifier and multinomial Logistic Regression classifier models. We will then report accuracy of our models against the hold out test set. "
   ]
  },
  {
   "cell_type": "code",
   "execution_count": 9,
   "metadata": {},
   "outputs": [],
   "source": [
    "# Import Libraries\n",
    "import pandas as pd \n",
    "import numpy as np\n",
    "import seaborn as sns\n",
    "import plotly.express as px\n",
    "from matplotlib import pyplot as plt\n",
    "# from collections import Counter \n",
    "from nltk.corpus import stopwords\n",
    "from string import punctuation\n",
    "from wordcloud import WordCloud \n",
    "import textacy.preprocessing as tprep\n",
    "from lexical_diversity import lex_div as ld\n",
    "\n",
    "from ast import literal_eval\n",
    "\n",
    "from sklearn.model_selection import train_test_split\n",
    "from sklearn.feature_extraction.text import TfidfVectorizer, CountVectorizer\n",
    "from sklearn.decomposition import NMF, TruncatedSVD, LatentDirichletAllocation\n",
    "from sklearn.naive_bayes import MultinomialNB\n",
    "from sklearn.linear_model import LogisticRegression\n",
    "from sklearn.pipeline import Pipeline\n",
    "from sklearn.metrics import f1_score\n",
    "from sklearn.metrics import roc_auc_score\n",
    "from sklearn.metrics import precision_score\n",
    "from sklearn.metrics import recall_score\n",
    "from sklearn.metrics import accuracy_score\n",
    "from sklearn.multiclass import OneVsRestClassifier\n",
    "from sklearn.metrics import confusion_matrix\n",
    "\n",
    "import warnings  \n",
    "warnings.filterwarnings('ignore')\n"
   ]
  },
  {
   "cell_type": "markdown",
   "metadata": {},
   "source": [
    "## Helper Functions"
   ]
  },
  {
   "cell_type": "code",
   "execution_count": 6,
   "metadata": {},
   "outputs": [],
   "source": [
    "# Add additional helper functions\n",
    "\n",
    "# Stopwords\n",
    "sw = stopwords.words(\"english\")\n",
    "\n",
    "# Some punctuation variations\n",
    "punctuation = set(punctuation) # speeds up comparison\n",
    "# tw_punct = punctuation - {\"#\"} # Do this if there is punctuation you would like to ignore.\n",
    "\n",
    "# Helper Functions - Cleaning data\n",
    "\n",
    "def normalize(text):\n",
    "    text = tprep.normalize.hyphenated_words(text)\n",
    "    text = tprep.normalize.quotation_marks(text)\n",
    "    text = tprep.normalize.unicode(text)\n",
    "    text = tprep.remove.accents(text)\n",
    "    return text\n",
    "\n",
    "def remove_punctuation(text, punct_set=punctuation) : \n",
    "    \"\"\"This function removes punctuation from a string.\"\"\"\n",
    "    return(\"\".join([ch for ch in text if ch not in punct_set]))\n",
    "\n",
    "def tokenize(text) : \n",
    "    \"\"\" Splitting on whitespace rather than the book's tokenize function. That \n",
    "        function will drop tokens like '#hashtag' or '2A', which we need for Twitter. \"\"\"\n",
    "    \n",
    "    # modify this function to return tokens\n",
    "    return text.lower().strip().split() \n",
    "\n",
    "def remove_stop(tokens) :\n",
    "    \"\"\"This function removes stopwords from a list of tokens.\"\"\"\n",
    "    return([t for t in tokens if t.lower() not in sw])\n",
    "\n",
    "def detokenize(list) : \n",
    "    \"\"\" Returning back a string from a list of tokens\"\"\"\n",
    "    \n",
    "    # modify this function to return string from tokens\n",
    "    return(\" \".join([str(e) for e in list]))\n",
    "    \n",
    "def prepare(text, pipeline) : \n",
    "    \"\"\" This fuction manages and executes other functions like a pipline. \"\"\"\n",
    "    tokens = str(text)\n",
    "    \n",
    "    for transform in pipeline : \n",
    "        tokens = transform(tokens)\n",
    "        \n",
    "    return(tokens)"
   ]
  },
  {
   "cell_type": "markdown",
   "metadata": {},
   "source": [
    "## Data ETL and EDA"
   ]
  },
  {
   "cell_type": "code",
   "execution_count": 15,
   "metadata": {},
   "outputs": [
    {
     "data": {
      "text/html": [
       "<div>\n",
       "<style scoped>\n",
       "    .dataframe tbody tr th:only-of-type {\n",
       "        vertical-align: middle;\n",
       "    }\n",
       "\n",
       "    .dataframe tbody tr th {\n",
       "        vertical-align: top;\n",
       "    }\n",
       "\n",
       "    .dataframe thead th {\n",
       "        text-align: right;\n",
       "    }\n",
       "</style>\n",
       "<table border=\"1\" class=\"dataframe\">\n",
       "  <thead>\n",
       "    <tr style=\"text-align: right;\">\n",
       "      <th></th>\n",
       "      <th>titles</th>\n",
       "      <th>abstracts</th>\n",
       "      <th>terms</th>\n",
       "    </tr>\n",
       "  </thead>\n",
       "  <tbody>\n",
       "    <tr>\n",
       "      <th>0</th>\n",
       "      <td>Reinforcement Learning from Multiple Sensors v...</td>\n",
       "      <td>In many scenarios, observations from more than...</td>\n",
       "      <td>[cs.LG]</td>\n",
       "    </tr>\n",
       "    <tr>\n",
       "      <th>1</th>\n",
       "      <td>Interventional Causal Representation Learning</td>\n",
       "      <td>Causal representation learning seeks to extrac...</td>\n",
       "      <td>[stat.ML, cs.LG]</td>\n",
       "    </tr>\n",
       "    <tr>\n",
       "      <th>2</th>\n",
       "      <td>Self-Supervised Node Representation Learning v...</td>\n",
       "      <td>Self-supervised node representation learning a...</td>\n",
       "      <td>[cs.LG]</td>\n",
       "    </tr>\n",
       "    <tr>\n",
       "      <th>3</th>\n",
       "      <td>Out-of-Distribution Representation Learning fo...</td>\n",
       "      <td>Time series classification is an important pro...</td>\n",
       "      <td>[cs.LG, cs.AI]</td>\n",
       "    </tr>\n",
       "    <tr>\n",
       "      <th>4</th>\n",
       "      <td>Trading Information between Latents in Hierarc...</td>\n",
       "      <td>Variational Autoencoders (VAEs) were originall...</td>\n",
       "      <td>[stat.ML, cs.CV, cs.IT, cs.LG, math.IT]</td>\n",
       "    </tr>\n",
       "    <tr>\n",
       "      <th>...</th>\n",
       "      <td>...</td>\n",
       "      <td>...</td>\n",
       "      <td>...</td>\n",
       "    </tr>\n",
       "    <tr>\n",
       "      <th>64568</th>\n",
       "      <td>Plot 94 in ambiance X-Window</td>\n",
       "      <td>&lt;PLOT &gt; is a collection of routines to draw su...</td>\n",
       "      <td>[cs.CV, cs.GR]</td>\n",
       "    </tr>\n",
       "    <tr>\n",
       "      <th>64569</th>\n",
       "      <td>Automatic Face Recognition System Based on Loc...</td>\n",
       "      <td>We present an automatic face verification syst...</td>\n",
       "      <td>[cs.CV]</td>\n",
       "    </tr>\n",
       "    <tr>\n",
       "      <th>64570</th>\n",
       "      <td>Convexity Analysis of Snake Models Based on Ha...</td>\n",
       "      <td>This paper presents a convexity analysis for t...</td>\n",
       "      <td>[cs.CV, cs.GR, I.4; I.4.6;I.4.8]</td>\n",
       "    </tr>\n",
       "    <tr>\n",
       "      <th>64571</th>\n",
       "      <td>Semi-automatic vectorization of linear network...</td>\n",
       "      <td>A system for semi-automatic vectorization of l...</td>\n",
       "      <td>[cs.CV, cs.MM, I.4.6]</td>\n",
       "    </tr>\n",
       "    <tr>\n",
       "      <th>64572</th>\n",
       "      <td>Digital Color Imaging</td>\n",
       "      <td>This paper surveys current technology and rese...</td>\n",
       "      <td>[cs.CV, cs.GR, A.1;I.4,I.3.3,I.2.10;I.3.7;B.4.2]</td>\n",
       "    </tr>\n",
       "  </tbody>\n",
       "</table>\n",
       "<p>64573 rows × 3 columns</p>\n",
       "</div>"
      ],
      "text/plain": [
       "                                                  titles  \\\n",
       "0      Reinforcement Learning from Multiple Sensors v...   \n",
       "1          Interventional Causal Representation Learning   \n",
       "2      Self-Supervised Node Representation Learning v...   \n",
       "3      Out-of-Distribution Representation Learning fo...   \n",
       "4      Trading Information between Latents in Hierarc...   \n",
       "...                                                  ...   \n",
       "64568                       Plot 94 in ambiance X-Window   \n",
       "64569  Automatic Face Recognition System Based on Loc...   \n",
       "64570  Convexity Analysis of Snake Models Based on Ha...   \n",
       "64571  Semi-automatic vectorization of linear network...   \n",
       "64572                              Digital Color Imaging   \n",
       "\n",
       "                                               abstracts  \\\n",
       "0      In many scenarios, observations from more than...   \n",
       "1      Causal representation learning seeks to extrac...   \n",
       "2      Self-supervised node representation learning a...   \n",
       "3      Time series classification is an important pro...   \n",
       "4      Variational Autoencoders (VAEs) were originall...   \n",
       "...                                                  ...   \n",
       "64568  <PLOT > is a collection of routines to draw su...   \n",
       "64569  We present an automatic face verification syst...   \n",
       "64570  This paper presents a convexity analysis for t...   \n",
       "64571  A system for semi-automatic vectorization of l...   \n",
       "64572  This paper surveys current technology and rese...   \n",
       "\n",
       "                                                  terms  \n",
       "0                                               [cs.LG]  \n",
       "1                                      [stat.ML, cs.LG]  \n",
       "2                                               [cs.LG]  \n",
       "3                                        [cs.LG, cs.AI]  \n",
       "4               [stat.ML, cs.CV, cs.IT, cs.LG, math.IT]  \n",
       "...                                                 ...  \n",
       "64568                                    [cs.CV, cs.GR]  \n",
       "64569                                           [cs.CV]  \n",
       "64570                  [cs.CV, cs.GR, I.4; I.4.6;I.4.8]  \n",
       "64571                             [cs.CV, cs.MM, I.4.6]  \n",
       "64572  [cs.CV, cs.GR, A.1;I.4,I.3.3,I.2.10;I.3.7;B.4.2]  \n",
       "\n",
       "[64573 rows x 3 columns]"
      ]
     },
     "execution_count": 15,
     "metadata": {},
     "output_type": "execute_result"
    }
   ],
   "source": [
    "# Get Imported Data\n",
    "arxiv_data = pd.read_pickle('G:\\\\My Drive\\\\ADS-509_Final_Team_Project\\\\arxiv_data_2023_02_13.pkl')\n",
    "arxiv_data"
   ]
  },
  {
   "cell_type": "code",
   "execution_count": 28,
   "metadata": {},
   "outputs": [
    {
     "name": "stdout",
     "output_type": "stream",
     "text": [
      "There are 64573 rows in the dataset.\n",
      "\n",
      "There are 14237 duplicated titles.\n",
      "\n",
      "There are 50336 rows in the deduplicated dataset.\n",
      "\n",
      "There are 2907 terms with an occurrence of 1.\n",
      "\n",
      "There are 3961 unique terms.\n",
      "\n"
     ]
    }
   ],
   "source": [
    "# Data Review\n",
    "print(f\"There are {len(arxiv_data)} rows in the dataset.\\n\")\n",
    "\n",
    "total_duplicate_titles = sum(arxiv_data[\"titles\"].duplicated())\n",
    "print(f\"There are {total_duplicate_titles} duplicated titles.\\n\")\n",
    "\n",
    "dedup_arxiv_data = arxiv_data[~arxiv_data[\"titles\"].duplicated()].reset_index(drop=True)\n",
    "print(f\"There are {len(dedup_arxiv_data)} rows in the deduplicated dataset.\\n\")\n",
    "\n",
    "# There are some terms with occurrence as low as 1.\n",
    "occur = sum(dedup_arxiv_data[\"terms\"].value_counts() == 1)\n",
    "print(f\"There are {occur} terms with an occurrence of 1.\\n\")\n",
    "\n",
    "# How many unique terms?\n",
    "unique_terms = dedup_arxiv_data[\"terms\"].astype('str').nunique()\n",
    "print(f\"There are {unique_terms} unique terms.\\n\")"
   ]
  },
  {
   "cell_type": "markdown",
   "metadata": {},
   "source": [
    "## Normalize and Clean Text\n"
   ]
  },
  {
   "cell_type": "code",
   "execution_count": 31,
   "metadata": {},
   "outputs": [
    {
     "data": {
      "text/html": [
       "<div>\n",
       "<style scoped>\n",
       "    .dataframe tbody tr th:only-of-type {\n",
       "        vertical-align: middle;\n",
       "    }\n",
       "\n",
       "    .dataframe tbody tr th {\n",
       "        vertical-align: top;\n",
       "    }\n",
       "\n",
       "    .dataframe thead th {\n",
       "        text-align: right;\n",
       "    }\n",
       "</style>\n",
       "<table border=\"1\" class=\"dataframe\">\n",
       "  <thead>\n",
       "    <tr style=\"text-align: right;\">\n",
       "      <th></th>\n",
       "      <th>titles</th>\n",
       "      <th>abstracts</th>\n",
       "      <th>terms</th>\n",
       "      <th>summaries</th>\n",
       "    </tr>\n",
       "  </thead>\n",
       "  <tbody>\n",
       "    <tr>\n",
       "      <th>0</th>\n",
       "      <td>Reinforcement Learning from Multiple Sensors v...</td>\n",
       "      <td>In many scenarios, observations from more than...</td>\n",
       "      <td>[cs.LG]</td>\n",
       "      <td>reinforcement learning multiple sensors via jo...</td>\n",
       "    </tr>\n",
       "    <tr>\n",
       "      <th>1</th>\n",
       "      <td>Interventional Causal Representation Learning</td>\n",
       "      <td>Causal representation learning seeks to extrac...</td>\n",
       "      <td>[stat.ML, cs.LG]</td>\n",
       "      <td>interventional causal representation learningc...</td>\n",
       "    </tr>\n",
       "    <tr>\n",
       "      <th>2</th>\n",
       "      <td>Self-Supervised Node Representation Learning v...</td>\n",
       "      <td>Self-supervised node representation learning a...</td>\n",
       "      <td>[cs.LG]</td>\n",
       "      <td>selfsupervised node representation learning vi...</td>\n",
       "    </tr>\n",
       "    <tr>\n",
       "      <th>3</th>\n",
       "      <td>Out-of-Distribution Representation Learning fo...</td>\n",
       "      <td>Time series classification is an important pro...</td>\n",
       "      <td>[cs.LG, cs.AI]</td>\n",
       "      <td>outofdistribution representation learning time...</td>\n",
       "    </tr>\n",
       "    <tr>\n",
       "      <th>4</th>\n",
       "      <td>Trading Information between Latents in Hierarc...</td>\n",
       "      <td>Variational Autoencoders (VAEs) were originall...</td>\n",
       "      <td>[stat.ML, cs.CV, cs.IT, cs.LG, math.IT]</td>\n",
       "      <td>trading information latents hierarchical varia...</td>\n",
       "    </tr>\n",
       "    <tr>\n",
       "      <th>...</th>\n",
       "      <td>...</td>\n",
       "      <td>...</td>\n",
       "      <td>...</td>\n",
       "      <td>...</td>\n",
       "    </tr>\n",
       "    <tr>\n",
       "      <th>50331</th>\n",
       "      <td>Plot 94 in ambiance X-Window</td>\n",
       "      <td>&lt;PLOT &gt; is a collection of routines to draw su...</td>\n",
       "      <td>[cs.CV, cs.GR]</td>\n",
       "      <td>plot 94 ambiance xwindowplot collection routin...</td>\n",
       "    </tr>\n",
       "    <tr>\n",
       "      <th>50332</th>\n",
       "      <td>Automatic Face Recognition System Based on Loc...</td>\n",
       "      <td>We present an automatic face verification syst...</td>\n",
       "      <td>[cs.CV]</td>\n",
       "      <td>automatic face recognition system based local ...</td>\n",
       "    </tr>\n",
       "    <tr>\n",
       "      <th>50333</th>\n",
       "      <td>Convexity Analysis of Snake Models Based on Ha...</td>\n",
       "      <td>This paper presents a convexity analysis for t...</td>\n",
       "      <td>[cs.CV, cs.GR, I.4; I.4.6;I.4.8]</td>\n",
       "      <td>convexity analysis snake models based hamilton...</td>\n",
       "    </tr>\n",
       "    <tr>\n",
       "      <th>50334</th>\n",
       "      <td>Semi-automatic vectorization of linear network...</td>\n",
       "      <td>A system for semi-automatic vectorization of l...</td>\n",
       "      <td>[cs.CV, cs.MM, I.4.6]</td>\n",
       "      <td>semiautomatic vectorization linear networks ra...</td>\n",
       "    </tr>\n",
       "    <tr>\n",
       "      <th>50335</th>\n",
       "      <td>Digital Color Imaging</td>\n",
       "      <td>This paper surveys current technology and rese...</td>\n",
       "      <td>[cs.CV, cs.GR, A.1;I.4,I.3.3,I.2.10;I.3.7;B.4.2]</td>\n",
       "      <td>digital color imagingthis paper surveys curren...</td>\n",
       "    </tr>\n",
       "  </tbody>\n",
       "</table>\n",
       "<p>50336 rows × 4 columns</p>\n",
       "</div>"
      ],
      "text/plain": [
       "                                                  titles  \\\n",
       "0      Reinforcement Learning from Multiple Sensors v...   \n",
       "1          Interventional Causal Representation Learning   \n",
       "2      Self-Supervised Node Representation Learning v...   \n",
       "3      Out-of-Distribution Representation Learning fo...   \n",
       "4      Trading Information between Latents in Hierarc...   \n",
       "...                                                  ...   \n",
       "50331                       Plot 94 in ambiance X-Window   \n",
       "50332  Automatic Face Recognition System Based on Loc...   \n",
       "50333  Convexity Analysis of Snake Models Based on Ha...   \n",
       "50334  Semi-automatic vectorization of linear network...   \n",
       "50335                              Digital Color Imaging   \n",
       "\n",
       "                                               abstracts  \\\n",
       "0      In many scenarios, observations from more than...   \n",
       "1      Causal representation learning seeks to extrac...   \n",
       "2      Self-supervised node representation learning a...   \n",
       "3      Time series classification is an important pro...   \n",
       "4      Variational Autoencoders (VAEs) were originall...   \n",
       "...                                                  ...   \n",
       "50331  <PLOT > is a collection of routines to draw su...   \n",
       "50332  We present an automatic face verification syst...   \n",
       "50333  This paper presents a convexity analysis for t...   \n",
       "50334  A system for semi-automatic vectorization of l...   \n",
       "50335  This paper surveys current technology and rese...   \n",
       "\n",
       "                                                  terms  \\\n",
       "0                                               [cs.LG]   \n",
       "1                                      [stat.ML, cs.LG]   \n",
       "2                                               [cs.LG]   \n",
       "3                                        [cs.LG, cs.AI]   \n",
       "4               [stat.ML, cs.CV, cs.IT, cs.LG, math.IT]   \n",
       "...                                                 ...   \n",
       "50331                                    [cs.CV, cs.GR]   \n",
       "50332                                           [cs.CV]   \n",
       "50333                  [cs.CV, cs.GR, I.4; I.4.6;I.4.8]   \n",
       "50334                             [cs.CV, cs.MM, I.4.6]   \n",
       "50335  [cs.CV, cs.GR, A.1;I.4,I.3.3,I.2.10;I.3.7;B.4.2]   \n",
       "\n",
       "                                               summaries  \n",
       "0      reinforcement learning multiple sensors via jo...  \n",
       "1      interventional causal representation learningc...  \n",
       "2      selfsupervised node representation learning vi...  \n",
       "3      outofdistribution representation learning time...  \n",
       "4      trading information latents hierarchical varia...  \n",
       "...                                                  ...  \n",
       "50331  plot 94 ambiance xwindowplot collection routin...  \n",
       "50332  automatic face recognition system based local ...  \n",
       "50333  convexity analysis snake models based hamilton...  \n",
       "50334  semiautomatic vectorization linear networks ra...  \n",
       "50335  digital color imagingthis paper surveys curren...  \n",
       "\n",
       "[50336 rows x 4 columns]"
      ]
     },
     "execution_count": 31,
     "metadata": {},
     "output_type": "execute_result"
    }
   ],
   "source": [
    "# Clean and Tokenize Data\n",
    "df = dedup_arxiv_data.copy()\n",
    "\n",
    "df[\"summaries\"] = df[\"titles\"] + df[\"abstracts\"]\n",
    "\n",
    "my_pipeline = [normalize, remove_punctuation, tokenize, remove_stop, detokenize]\n",
    "df[\"summaries\"] = df[\"summaries\"].apply(prepare, pipeline=my_pipeline)\n",
    "\n",
    "df"
   ]
  },
  {
   "cell_type": "markdown",
   "metadata": {},
   "source": [
    "## Topic Modeling"
   ]
  },
  {
   "cell_type": "code",
   "execution_count": 32,
   "metadata": {},
   "outputs": [],
   "source": [
    "# Helper Functions\n",
    "# This function comes from the BTAP repo.\n",
    "\n",
    "def display_topics(model, features, no_top_words=5):\n",
    "    for topic, words in enumerate(model.components_):\n",
    "        total = words.sum()\n",
    "        largest = words.argsort()[::-1] # invert sort order\n",
    "        print(\"\\nTopic %02d\" % topic)\n",
    "        for i in range(0, no_top_words):\n",
    "            print(\"  %s (%2.2f)\" % (features[largest[i]], abs(words[largest[i]]*100.0/total)))"
   ]
  },
  {
   "cell_type": "code",
   "execution_count": 33,
   "metadata": {},
   "outputs": [
    {
     "name": "stdout",
     "output_type": "stream",
     "text": [
      "(50336, 23148)\n"
     ]
    }
   ],
   "source": [
    "# Count the words\n",
    "count_text_vectorizer = CountVectorizer(stop_words=list(sw), min_df=5, max_df=0.7)\n",
    "count_text_vectors = count_text_vectorizer.fit_transform(df['summaries'])\n",
    "print(count_text_vectors.shape)"
   ]
  },
  {
   "cell_type": "code",
   "execution_count": 35,
   "metadata": {},
   "outputs": [
    {
     "name": "stdout",
     "output_type": "stream",
     "text": [
      "(50336, 23148)\n"
     ]
    }
   ],
   "source": [
    "# Get TF-IDF\n",
    "tfidf_text_vectorizer = TfidfVectorizer(stop_words=list(sw), min_df=5, max_df=0.7)\n",
    "tfidf_text_vectors = tfidf_text_vectorizer.fit_transform(df['summaries'])\n",
    "print(tfidf_text_vectors.shape)"
   ]
  },
  {
   "cell_type": "markdown",
   "metadata": {},
   "source": [
    "### Fitting a Non-Negative Matrix Factorization Model - NMF"
   ]
  },
  {
   "cell_type": "code",
   "execution_count": 89,
   "metadata": {},
   "outputs": [],
   "source": [
    "nmf_text_model = NMF(n_components=5, random_state=314)\n",
    "W_nmf_text_matrix = nmf_text_model.fit_transform(tfidf_text_vectors)\n",
    "H_nmf_text_matrix = nmf_text_model.components_"
   ]
  },
  {
   "cell_type": "code",
   "execution_count": 90,
   "metadata": {},
   "outputs": [
    {
     "name": "stdout",
     "output_type": "stream",
     "text": [
      "\n",
      "Topic 00\n",
      "  learning (1.18)\n",
      "  reinforcement (1.15)\n",
      "  policy (1.02)\n",
      "  rl (0.94)\n",
      "  algorithm (0.52)\n",
      "  algorithms (0.52)\n",
      "  agents (0.47)\n",
      "  reward (0.46)\n",
      "  agent (0.44)\n",
      "  control (0.40)\n",
      "\n",
      "Topic 01\n",
      "  image (0.62)\n",
      "  data (0.54)\n",
      "  model (0.46)\n",
      "  models (0.44)\n",
      "  learning (0.38)\n",
      "  images (0.37)\n",
      "  training (0.32)\n",
      "  segmentation (0.31)\n",
      "  network (0.29)\n",
      "  deep (0.29)\n",
      "\n",
      "Topic 02\n",
      "  graph (4.03)\n",
      "  graphs (1.21)\n",
      "  node (1.11)\n",
      "  gnns (0.92)\n",
      "  neural (0.83)\n",
      "  networks (0.74)\n",
      "  nodes (0.71)\n",
      "  gnn (0.58)\n",
      "  learning (0.51)\n",
      "  representation (0.48)\n",
      "\n",
      "Topic 03\n",
      "  3d (3.52)\n",
      "  point (3.05)\n",
      "  cloud (1.77)\n",
      "  depth (1.21)\n",
      "  clouds (1.21)\n",
      "  shape (0.83)\n",
      "  2d (0.73)\n",
      "  estimation (0.65)\n",
      "  pose (0.63)\n",
      "  scene (0.58)\n",
      "\n",
      "Topic 04\n",
      "  object (3.00)\n",
      "  detection (2.76)\n",
      "  objects (0.96)\n",
      "  detectors (0.52)\n",
      "  video (0.51)\n",
      "  tracking (0.49)\n",
      "  detector (0.47)\n",
      "  dataset (0.44)\n",
      "  bounding (0.37)\n",
      "  feature (0.35)\n"
     ]
    }
   ],
   "source": [
    "display_topics(nmf_text_model, tfidf_text_vectorizer.get_feature_names_out(), no_top_words=10)"
   ]
  },
  {
   "cell_type": "code",
   "execution_count": 137,
   "metadata": {},
   "outputs": [
    {
     "name": "stdout",
     "output_type": "stream",
     "text": [
      "\n",
      "Original Topic - nmf_pred_topic_num\n"
     ]
    },
    {
     "data": {
      "text/plain": [
       "<AxesSubplot: title={'center': 'Document Count by Category'}, xlabel='Category', ylabel='Document Counts'>"
      ]
     },
     "metadata": {},
     "output_type": "display_data"
    },
    {
     "name": "stdout",
     "output_type": "stream",
     "text": [
      "\n",
      "\n"
     ]
    },
    {
     "data": {
      "image/png": "[encoded data removed]",
      "text/plain": [
       "<Figure size 640x480 with 1 Axes>"
      ]
     },
     "metadata": {},
     "output_type": "display_data"
    }
   ],
   "source": [
    "# Evaluate the Categories\n",
    "df_new = df.copy()\n",
    "\n",
    "# Get the top predicted topic\n",
    "predicted_topics = [np.argsort(each)[::-1][0] for each in W_nmf_text_matrix]\n",
    "\n",
    "# Add to the df\n",
    "df_new['nmf_pred_topic_num'] = predicted_topics\n",
    "\n",
    "# Create Chart\n",
    "print(\"\\nOriginal Topic -\", col)\n",
    "my_colors = list(islice(cycle(['b', 'r', 'g', 'y', 'k']), None, len(df)))\n",
    "bar_plot = df_new.groupby('nmf_pred_topic_num').size()\n",
    "ax = bar_plot.plot(kind=\"bar\", stacked=True, rot=0, color=my_colors, title='Document Count by Category')\n",
    "ax.set_xlabel(\"Category\")\n",
    "ax.set_ylabel(\"Document Counts\")\n",
    "display(ax)\n",
    "print('\\n')"
   ]
  },
  {
   "cell_type": "markdown",
   "metadata": {},
   "source": [
    "### Fitting an LSA Model - LSA"
   ]
  },
  {
   "cell_type": "code",
   "execution_count": 66,
   "metadata": {},
   "outputs": [],
   "source": [
    "# Your code here\n",
    "lsa_text_model = TruncatedSVD(n_components=5, n_iter=14, random_state=42)\n",
    "W_lsa_text_matrix = lsa_text_model.fit_transform(tfidf_text_vectors)\n",
    "H_lsa_text_matrix = lsa_text_model.components_"
   ]
  },
  {
   "cell_type": "code",
   "execution_count": 67,
   "metadata": {},
   "outputs": [
    {
     "name": "stdout",
     "output_type": "stream",
     "text": [
      "\n",
      "Topic 00\n",
      "  learning (0.49)\n",
      "  data (0.38)\n",
      "  image (0.34)\n",
      "  model (0.33)\n",
      "  graph (0.29)\n",
      "\n",
      "Topic 01\n",
      "  3d (7.06)\n",
      "  object (6.35)\n",
      "  detection (4.88)\n",
      "  point (4.36)\n",
      "  image (3.57)\n",
      "\n",
      "Topic 02\n",
      "  graph (17.54)\n",
      "  graphs (5.13)\n",
      "  node (4.89)\n",
      "  gnns (4.08)\n",
      "  neural (3.78)\n",
      "\n",
      "Topic 03\n",
      "  point (30.04)\n",
      "  3d (29.25)\n",
      "  cloud (17.63)\n",
      "  graph (15.85)\n",
      "  clouds (11.79)\n",
      "\n",
      "Topic 04\n",
      "  object (60.00)\n",
      "  detection (57.40)\n",
      "  graph (27.01)\n",
      "  objects (15.95)\n",
      "  detectors (11.13)\n"
     ]
    }
   ],
   "source": [
    "display_topics(lsa_text_model, tfidf_text_vectorizer.get_feature_names_out(), no_top_words=5)"
   ]
  },
  {
   "cell_type": "code",
   "execution_count": 136,
   "metadata": {},
   "outputs": [
    {
     "name": "stdout",
     "output_type": "stream",
     "text": [
      "\n",
      "Original Topic - nmf_pred_topic_num\n"
     ]
    },
    {
     "data": {
      "text/plain": [
       "<AxesSubplot: title={'center': 'Document Count by Category'}, xlabel='Category', ylabel='Document Counts'>"
      ]
     },
     "metadata": {},
     "output_type": "display_data"
    },
    {
     "name": "stdout",
     "output_type": "stream",
     "text": [
      "\n",
      "\n"
     ]
    },
    {
     "data": {
      "image/png": "[encoded data removed]",
      "text/plain": [
       "<Figure size 640x480 with 1 Axes>"
      ]
     },
     "metadata": {},
     "output_type": "display_data"
    }
   ],
   "source": [
    "# Evaluate the Categories\n",
    "\n",
    "# Get the top predicted topic\n",
    "predicted_topics = [np.argsort(each)[::-1][0] for each in W_lsa_text_matrix]\n",
    "\n",
    "# Add to the df\n",
    "df_new['lsa_pred_topic_num'] = predicted_topics\n",
    "\n",
    "# Create Chart\n",
    "print(\"\\nOriginal Topic -\", col)\n",
    "my_colors = list(islice(cycle(['b', 'r', 'g', 'y', 'k']), None, len(df)))\n",
    "bar_plot = df_new.groupby('lsa_pred_topic_num').size()\n",
    "ax = bar_plot.plot(kind=\"bar\", stacked=True, rot=0, color=my_colors, title='Document Count by Category')\n",
    "ax.set_xlabel(\"Category\")\n",
    "ax.set_ylabel(\"Document Counts\")\n",
    "display(ax)\n",
    "print('\\n')"
   ]
  },
  {
   "cell_type": "markdown",
   "metadata": {},
   "source": [
    "### Fitting an LDA Model - LDA"
   ]
  },
  {
   "cell_type": "code",
   "execution_count": 104,
   "metadata": {},
   "outputs": [],
   "source": [
    "# Fit your LDA model here\n",
    "\n",
    "lda_text_model = LatentDirichletAllocation(n_components=5, random_state=0)\n",
    "W_lda_text_matrix = lda_text_model.fit_transform(tfidf_text_vectors)\n",
    "H_lda_text_matrix = lda_text_model.components_"
   ]
  },
  {
   "cell_type": "code",
   "execution_count": 114,
   "metadata": {},
   "outputs": [
    {
     "name": "stdout",
     "output_type": "stream",
     "text": [
      "\n",
      "Topic 00\n",
      "  navigation (0.60)\n",
      "  imitation (0.50)\n",
      "  demonstrations (0.45)\n",
      "  agent (0.42)\n",
      "  agents (0.35)\n",
      "  environment (0.33)\n",
      "  embodied (0.31)\n",
      "  skill (0.26)\n",
      "  game (0.25)\n",
      "  crop (0.25)\n",
      "\n",
      "Topic 01\n",
      "  molecules (0.64)\n",
      "  molecular (0.52)\n",
      "  chemical (0.48)\n",
      "  molecule (0.35)\n",
      "  shadow (0.33)\n",
      "  drug (0.31)\n",
      "  hoi (0.30)\n",
      "  humanobject (0.30)\n",
      "  au (0.27)\n",
      "  tsc (0.25)\n",
      "\n",
      "Topic 02\n",
      "  learning (0.69)\n",
      "  reinforcement (0.50)\n",
      "  policy (0.38)\n",
      "  data (0.37)\n",
      "  rl (0.35)\n",
      "  algorithm (0.32)\n",
      "  model (0.31)\n",
      "  algorithms (0.28)\n",
      "  models (0.28)\n",
      "  neural (0.27)\n",
      "\n",
      "Topic 03\n",
      "  detection (0.55)\n",
      "  object (0.45)\n",
      "  data (0.39)\n",
      "  image (0.33)\n",
      "  segmentation (0.32)\n",
      "  learning (0.31)\n",
      "  model (0.30)\n",
      "  images (0.29)\n",
      "  deep (0.28)\n",
      "  network (0.28)\n",
      "\n",
      "Topic 04\n",
      "  image (0.54)\n",
      "  3d (0.46)\n",
      "  graph (0.42)\n",
      "  point (0.37)\n",
      "  learning (0.34)\n",
      "  images (0.33)\n",
      "  model (0.32)\n",
      "  representation (0.31)\n",
      "  network (0.28)\n",
      "  method (0.28)\n"
     ]
    }
   ],
   "source": [
    "# Call `display_topics` on your fitted model here\n",
    "display_topics(lda_text_model, tfidf_text_vectorizer.get_feature_names_out(), no_top_words=10)"
   ]
  },
  {
   "cell_type": "code",
   "execution_count": 135,
   "metadata": {},
   "outputs": [
    {
     "name": "stdout",
     "output_type": "stream",
     "text": [
      "\n",
      "Original Topic - nmf_pred_topic_num\n"
     ]
    },
    {
     "data": {
      "text/plain": [
       "<AxesSubplot: title={'center': 'Document Count by Category'}, xlabel='Category', ylabel='Document Counts'>"
      ]
     },
     "metadata": {},
     "output_type": "display_data"
    },
    {
     "name": "stdout",
     "output_type": "stream",
     "text": [
      "\n",
      "\n"
     ]
    },
    {
     "data": {
      "image/png": "[encoded data removed]",
      "text/plain": [
       "<Figure size 640x480 with 1 Axes>"
      ]
     },
     "metadata": {},
     "output_type": "display_data"
    }
   ],
   "source": [
    "# Evaluate the Categories\n",
    "\n",
    "# Get the top predicted topic\n",
    "predicted_topics = [np.argsort(each)[::-1][0] for each in W_lda_text_matrix]\n",
    "\n",
    "# Add to the df\n",
    "df_new['lda_pred_topic_num'] = predicted_topics\n",
    "\n",
    "# Create Chart\n",
    "print(\"\\nOriginal Topic -\", col)\n",
    "my_colors = list(islice(cycle(['b', 'r', 'g', 'y', 'k']), None, len(df)))\n",
    "bar_plot = df_new.groupby('lda_pred_topic_num').size()\n",
    "ax = bar_plot.plot(kind=\"bar\", stacked=True, rot=0, color=my_colors, title='Document Count by Category')\n",
    "ax.set_xlabel(\"Category\")\n",
    "ax.set_ylabel(\"Document Counts\")\n",
    "display(ax)\n",
    "print('\\n')"
   ]
  },
  {
   "attachments": {},
   "cell_type": "markdown",
   "metadata": {},
   "source": [
    "## Test Train Split"
   ]
  },
  {
   "cell_type": "code",
   "execution_count": 124,
   "metadata": {},
   "outputs": [
    {
     "name": "stdout",
     "output_type": "stream",
     "text": [
      "['cat__0', 'cat__1', 'cat__2', 'cat__3', 'cat__4']\n"
     ]
    },
    {
     "data": {
      "text/html": [
       "<div>\n",
       "<style scoped>\n",
       "    .dataframe tbody tr th:only-of-type {\n",
       "        vertical-align: middle;\n",
       "    }\n",
       "\n",
       "    .dataframe tbody tr th {\n",
       "        vertical-align: top;\n",
       "    }\n",
       "\n",
       "    .dataframe thead th {\n",
       "        text-align: right;\n",
       "    }\n",
       "</style>\n",
       "<table border=\"1\" class=\"dataframe\">\n",
       "  <thead>\n",
       "    <tr style=\"text-align: right;\">\n",
       "      <th></th>\n",
       "      <th>cat__0</th>\n",
       "      <th>cat__1</th>\n",
       "      <th>cat__2</th>\n",
       "      <th>cat__3</th>\n",
       "      <th>cat__4</th>\n",
       "    </tr>\n",
       "  </thead>\n",
       "  <tbody>\n",
       "    <tr>\n",
       "      <th>0</th>\n",
       "      <td>1.0</td>\n",
       "      <td>0.0</td>\n",
       "      <td>0.0</td>\n",
       "      <td>0.0</td>\n",
       "      <td>0.0</td>\n",
       "    </tr>\n",
       "    <tr>\n",
       "      <th>1</th>\n",
       "      <td>0.0</td>\n",
       "      <td>1.0</td>\n",
       "      <td>0.0</td>\n",
       "      <td>0.0</td>\n",
       "      <td>0.0</td>\n",
       "    </tr>\n",
       "    <tr>\n",
       "      <th>2</th>\n",
       "      <td>0.0</td>\n",
       "      <td>0.0</td>\n",
       "      <td>1.0</td>\n",
       "      <td>0.0</td>\n",
       "      <td>0.0</td>\n",
       "    </tr>\n",
       "    <tr>\n",
       "      <th>3</th>\n",
       "      <td>0.0</td>\n",
       "      <td>1.0</td>\n",
       "      <td>0.0</td>\n",
       "      <td>0.0</td>\n",
       "      <td>0.0</td>\n",
       "    </tr>\n",
       "    <tr>\n",
       "      <th>4</th>\n",
       "      <td>0.0</td>\n",
       "      <td>1.0</td>\n",
       "      <td>0.0</td>\n",
       "      <td>0.0</td>\n",
       "      <td>0.0</td>\n",
       "    </tr>\n",
       "    <tr>\n",
       "      <th>...</th>\n",
       "      <td>...</td>\n",
       "      <td>...</td>\n",
       "      <td>...</td>\n",
       "      <td>...</td>\n",
       "      <td>...</td>\n",
       "    </tr>\n",
       "    <tr>\n",
       "      <th>50331</th>\n",
       "      <td>0.0</td>\n",
       "      <td>1.0</td>\n",
       "      <td>0.0</td>\n",
       "      <td>0.0</td>\n",
       "      <td>0.0</td>\n",
       "    </tr>\n",
       "    <tr>\n",
       "      <th>50332</th>\n",
       "      <td>0.0</td>\n",
       "      <td>1.0</td>\n",
       "      <td>0.0</td>\n",
       "      <td>0.0</td>\n",
       "      <td>0.0</td>\n",
       "    </tr>\n",
       "    <tr>\n",
       "      <th>50333</th>\n",
       "      <td>0.0</td>\n",
       "      <td>0.0</td>\n",
       "      <td>0.0</td>\n",
       "      <td>1.0</td>\n",
       "      <td>0.0</td>\n",
       "    </tr>\n",
       "    <tr>\n",
       "      <th>50334</th>\n",
       "      <td>0.0</td>\n",
       "      <td>1.0</td>\n",
       "      <td>0.0</td>\n",
       "      <td>0.0</td>\n",
       "      <td>0.0</td>\n",
       "    </tr>\n",
       "    <tr>\n",
       "      <th>50335</th>\n",
       "      <td>0.0</td>\n",
       "      <td>1.0</td>\n",
       "      <td>0.0</td>\n",
       "      <td>0.0</td>\n",
       "      <td>0.0</td>\n",
       "    </tr>\n",
       "  </tbody>\n",
       "</table>\n",
       "<p>50336 rows × 5 columns</p>\n",
       "</div>"
      ],
      "text/plain": [
       "       cat__0  cat__1  cat__2  cat__3  cat__4\n",
       "0         1.0     0.0     0.0     0.0     0.0\n",
       "1         0.0     1.0     0.0     0.0     0.0\n",
       "2         0.0     0.0     1.0     0.0     0.0\n",
       "3         0.0     1.0     0.0     0.0     0.0\n",
       "4         0.0     1.0     0.0     0.0     0.0\n",
       "...       ...     ...     ...     ...     ...\n",
       "50331     0.0     1.0     0.0     0.0     0.0\n",
       "50332     0.0     1.0     0.0     0.0     0.0\n",
       "50333     0.0     0.0     0.0     1.0     0.0\n",
       "50334     0.0     1.0     0.0     0.0     0.0\n",
       "50335     0.0     1.0     0.0     0.0     0.0\n",
       "\n",
       "[50336 rows x 5 columns]"
      ]
     },
     "execution_count": 124,
     "metadata": {},
     "output_type": "execute_result"
    }
   ],
   "source": [
    "y = pd.get_dummies(df_new['nmf_pred_topic_num'], prefix='cat_', dtype=float)\n",
    "cat_col_names = list(y.columns)\n",
    "\n",
    "print(cat_col_names)\n",
    "y"
   ]
  },
  {
   "cell_type": "code",
   "execution_count": 120,
   "metadata": {},
   "outputs": [
    {
     "data": {
      "text/plain": [
       "array([[1, 0, 0, 0, 0, 1, 1, 1, 1],\n",
       "       [0, 1, 0, 0, 0, 1, 1, 1, 1],\n",
       "       [0, 0, 1, 0, 0, 1, 1, 1, 1],\n",
       "       [0, 0, 0, 1, 0, 1, 1, 1, 1],\n",
       "       [0, 0, 0, 0, 1, 1, 1, 1, 1]])"
      ]
     },
     "execution_count": 120,
     "metadata": {},
     "output_type": "execute_result"
    }
   ],
   "source": [
    "# from sklearn.preprocessing import MultiLabelBinarizer\n",
    "# multilabel = MultiLabelBinarizer()\n",
    "# y = multilabel.fit_transform(pd.get_dummies(df_new['nmf_pred_topic_num'], prefix='cat_', dtype=float))\n",
    "# y"
   ]
  },
  {
   "cell_type": "code",
   "execution_count": 121,
   "metadata": {},
   "outputs": [
    {
     "data": {
      "text/plain": [
       "array(['0', '1', '2', '3', '4', '_', 'a', 'c', 't'], dtype=object)"
      ]
     },
     "execution_count": 121,
     "metadata": {},
     "output_type": "execute_result"
    }
   ],
   "source": [
    "# multilabel.classes_"
   ]
  },
  {
   "cell_type": "code",
   "execution_count": 122,
   "metadata": {},
   "outputs": [],
   "source": [
    "X_train, X_test, y_train, y_test = train_test_split(df['summaries'], \n",
    "                                                    pd.get_dummies(df_new['nmf_pred_topic_num'], prefix='cat_', dtype=float), \n",
    "                                                    test_size=0.3, \n",
    "                                                    random_state=43, \n",
    "                                                    shuffle=True)\n",
    "vectorizer = TfidfVectorizer(strip_accents='unicode', analyzer='word', ngram_range=(1,3), norm='l2')\n",
    "vectorizer.fit(X_train)\n",
    "\n",
    "X_train = vectorizer.transform(X_train)\n",
    "X_test = vectorizer.transform(X_test)"
   ]
  },
  {
   "attachments": {},
   "cell_type": "markdown",
   "metadata": {},
   "source": [
    "## Classification Modeling"
   ]
  },
  {
   "cell_type": "code",
   "execution_count": 127,
   "metadata": {},
   "outputs": [
    {
     "name": "stdout",
     "output_type": "stream",
     "text": [
      "\n",
      "**Processing cat__0 titles...**\n",
      "AUC ROC score is 0.9309031161270356\n",
      "[[12488    44]\n",
      " [  346  2223]]\n",
      "\n",
      "\n",
      "----------------------------------------\n",
      "\n",
      "**Processing cat__1 titles...**\n",
      "AUC ROC score is 0.9466427474558238\n",
      "[[6652  617]\n",
      " [ 171 7661]]\n",
      "\n",
      "\n",
      "----------------------------------------\n",
      "\n",
      "**Processing cat__2 titles...**\n",
      "AUC ROC score is 0.9110594392569024\n",
      "[[13578    31]\n",
      " [  262  1230]]\n",
      "\n",
      "\n",
      "----------------------------------------\n",
      "\n",
      "**Processing cat__3 titles...**\n",
      "AUC ROC score is 0.930778066408666\n",
      "[[13510   140]\n",
      " [  186  1265]]\n",
      "\n",
      "\n",
      "----------------------------------------\n",
      "\n",
      "**Processing cat__4 titles...**\n",
      "AUC ROC score is 0.916474496839637\n",
      "[[13249    95]\n",
      " [  281  1476]]\n",
      "\n",
      "\n",
      "----------------------------------------\n",
      "Test averaged AUC ROC is 0.971220448976889\n"
     ]
    }
   ],
   "source": [
    "# Logistic Regression\n",
    "\n",
    "LR_pipeline = Pipeline([('clf', OneVsRestClassifier(LogisticRegression(solver='sag'), n_jobs=-1))])\n",
    "accuracy = 0\n",
    "for category in cat_col_names:\n",
    "    print('\\n**Processing {} titles...**'.format(category))\n",
    "    \n",
    "    # Training logistic regression model on train data\n",
    "    LR_pipeline.fit(X_train, y_train[category])\n",
    "    \n",
    "    # calculating test accuracy\n",
    "    prediction = LR_pipeline.predict(X_test)\n",
    "    accuracy = accuracy + accuracy_score(y_test[category], prediction)\n",
    "    print('AUC ROC score is {}'.format(roc_auc_score(y_test[category],prediction)))\n",
    "    conf_mat = confusion_matrix(\n",
    "        y_test[category], prediction\n",
    "        )\n",
    "    print(conf_mat)\n",
    "    print(\"\\n\")\n",
    "    print(\"-\"*40)\n",
    "\n",
    "print('Test averaged AUC ROC is {}'.format(accuracy/len(cat_col_names)))"
   ]
  },
  {
   "cell_type": "code",
   "execution_count": 126,
   "metadata": {},
   "outputs": [
    {
     "name": "stdout",
     "output_type": "stream",
     "text": [
      "**Processing cat__0 titles...**\n",
      "AUC ROC is 0.5145971195017517\n",
      "[[12532     0]\n",
      " [ 2494    75]]\n",
      "\n",
      "\n",
      "----------------------------------------\n",
      "**Processing cat__1 titles...**\n",
      "AUC ROC is 0.8904411298711937\n",
      "[[5860 1409]\n",
      " [ 198 7634]]\n",
      "\n",
      "\n",
      "----------------------------------------\n",
      "**Processing cat__2 titles...**\n",
      "AUC ROC is 0.5\n",
      "[[13609     0]\n",
      " [ 1492     0]]\n",
      "\n",
      "\n",
      "----------------------------------------\n",
      "**Processing cat__3 titles...**\n",
      "AUC ROC is 0.5\n",
      "[[13650     0]\n",
      " [ 1451     0]]\n",
      "\n",
      "\n",
      "----------------------------------------\n",
      "**Processing cat__4 titles...**\n",
      "AUC ROC is 0.5\n",
      "[[13344     0]\n",
      " [ 1757     0]]\n",
      "\n",
      "\n",
      "----------------------------------------\n",
      "Test averaged AUC ROC is 0.8834381829017947\n"
     ]
    }
   ],
   "source": [
    "# Multinomial Naive Bayes\n",
    "\n",
    "NB_pipeline = Pipeline([('clf', OneVsRestClassifier(MultinomialNB(fit_prior=True, class_prior=None)))])\n",
    "accuracy = 0\n",
    "for category in cat_col_names:\n",
    "    print('**Processing {} titles...**'.format(category))\n",
    "    \n",
    "    # Training logistic regression model on train data\n",
    "    NB_pipeline.fit(X_train, y_train[category])\n",
    "    \n",
    "    # calculating test accuracy\n",
    "    prediction = NB_pipeline.predict(X_test)\n",
    "    accuracy = accuracy + accuracy_score(y_test[category], prediction)\n",
    "    print('AUC ROC is {}'.format(roc_auc_score(y_test[category],prediction)))\n",
    "    conf_mat = confusion_matrix(\n",
    "        y_test[category], prediction\n",
    "        )\n",
    "    print(conf_mat)\n",
    "    print(\"\\n\")\n",
    "    print(\"-\"*40)\n",
    "\n",
    "\n",
    "print('Test averaged AUC ROC is {}'.format(accuracy/len(cat_col_names)))"
   ]
  },
  {
   "cell_type": "code",
   "execution_count": null,
   "metadata": {},
   "outputs": [],
   "source": []
  }
 ],
 "metadata": {
  "kernelspec": {
   "display_name": "Python 3 (ipykernel)",
   "language": "python",
   "name": "python3"
  },
  "language_info": {
   "codemirror_mode": {
    "name": "ipython",
    "version": 3
   },
   "file_extension": ".py",
   "mimetype": "text/x-python",
   "name": "python",
   "nbconvert_exporter": "python",
   "pygments_lexer": "ipython3",
   "version": "3.11.2"
  },
  "vscode": {
   "interpreter": {
    "hash": "4b33cfd37f5195bd7836c1451c6eaacc84fbbad3c54541ec8bad2790bfb3f777"
   }
  }
 },
 "nbformat": 4,
 "nbformat_minor": 2
}
